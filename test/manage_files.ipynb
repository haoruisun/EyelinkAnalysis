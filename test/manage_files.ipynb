{
 "cells": [
  {
   "cell_type": "markdown",
   "metadata": {},
   "source": [
    "## Delete Files (Netfiles)"
   ]
  },
  {
   "cell_type": "code",
   "execution_count": null,
   "metadata": {},
   "outputs": [],
   "source": [
    "import os\n",
    "import glob\n",
    "import re\n",
    "\n",
    "# Define your online directory\n",
    "online_root = r\"Z:\\Mindless Reading\\Data\"\n",
    "\n",
    "# Regular expression to match subject folder names like \"sXXXXX\" (s followed by exactly 5 digits)\n",
    "subject_pattern = re.compile(r\"^s\\d{5}$\")\n",
    "\n",
    "# Patterns of CSV files to delete in the online folder\n",
    "csv_patterns = [\"*features_last.csv\", \"*features_same.csv\", \"*features_whole.csv\"]\n",
    "\n",
    "# Get the list of subject folders in the online directory\n",
    "subjects = [d for d in os.listdir(online_root) if os.path.isdir(os.path.join(online_root, d)) and subject_pattern.match(d)]\n",
    "\n",
    "for subject in subjects:\n",
    "    sub_folder = os.path.join(online_root, subject)\n",
    "    \n",
    "    # Delete specific CSV files in the online ICAPruned folder\n",
    "    if os.path.exists(sub_folder):\n",
    "        for pattern in csv_patterns:\n",
    "            for file in glob.glob(os.path.join(sub_folder, pattern)):\n",
    "                os.remove(file)\n",
    "                print(f\"Deleted {file}\")"
   ]
  },
  {
   "cell_type": "markdown",
   "metadata": {},
   "source": [
    "## Upload to Netfiles"
   ]
  },
  {
   "cell_type": "code",
   "execution_count": 1,
   "metadata": {},
   "outputs": [
    {
     "name": "stdout",
     "output_type": "stream",
     "text": [
      "Deleted existing folder: Z:\\Mindless Reading\\Data\\s10014\\page\n",
      "Copied E:\\MindlessReading\\Data\\s10014\\page to Z:\\Mindless Reading\\Data\\s10014\\page\n",
      "Copied E:\\MindlessReading\\Data\\s10052\\page to Z:\\Mindless Reading\\Data\\s10052\\page\n",
      "Copied E:\\MindlessReading\\Data\\s10059\\page to Z:\\Mindless Reading\\Data\\s10059\\page\n",
      "Copied E:\\MindlessReading\\Data\\s10073\\page to Z:\\Mindless Reading\\Data\\s10073\\page\n",
      "Copied E:\\MindlessReading\\Data\\s10080\\page to Z:\\Mindless Reading\\Data\\s10080\\page\n",
      "Copied E:\\MindlessReading\\Data\\s10081\\page to Z:\\Mindless Reading\\Data\\s10081\\page\n",
      "Copied E:\\MindlessReading\\Data\\s10084\\page to Z:\\Mindless Reading\\Data\\s10084\\page\n",
      "Copied E:\\MindlessReading\\Data\\s10085\\page to Z:\\Mindless Reading\\Data\\s10085\\page\n",
      "Copied E:\\MindlessReading\\Data\\s10089\\page to Z:\\Mindless Reading\\Data\\s10089\\page\n",
      "Copied E:\\MindlessReading\\Data\\s10092\\page to Z:\\Mindless Reading\\Data\\s10092\\page\n",
      "Copied E:\\MindlessReading\\Data\\s10093\\page to Z:\\Mindless Reading\\Data\\s10093\\page\n",
      "Copied E:\\MindlessReading\\Data\\s10094\\page to Z:\\Mindless Reading\\Data\\s10094\\page\n",
      "Copied E:\\MindlessReading\\Data\\s10100\\page to Z:\\Mindless Reading\\Data\\s10100\\page\n",
      "Copied E:\\MindlessReading\\Data\\s10103\\page to Z:\\Mindless Reading\\Data\\s10103\\page\n",
      "Copied E:\\MindlessReading\\Data\\s10110\\page to Z:\\Mindless Reading\\Data\\s10110\\page\n",
      "Copied E:\\MindlessReading\\Data\\s10111\\page to Z:\\Mindless Reading\\Data\\s10111\\page\n",
      "Copied E:\\MindlessReading\\Data\\s10115\\page to Z:\\Mindless Reading\\Data\\s10115\\page\n",
      "Copied E:\\MindlessReading\\Data\\s10117\\page to Z:\\Mindless Reading\\Data\\s10117\\page\n",
      "Copied E:\\MindlessReading\\Data\\s10121\\page to Z:\\Mindless Reading\\Data\\s10121\\page\n",
      "Copied E:\\MindlessReading\\Data\\s10125\\page to Z:\\Mindless Reading\\Data\\s10125\\page\n",
      "Copied E:\\MindlessReading\\Data\\s10127\\page to Z:\\Mindless Reading\\Data\\s10127\\page\n",
      "Copied E:\\MindlessReading\\Data\\s10138\\page to Z:\\Mindless Reading\\Data\\s10138\\page\n",
      "Copied E:\\MindlessReading\\Data\\s10139\\page to Z:\\Mindless Reading\\Data\\s10139\\page\n",
      "Copied E:\\MindlessReading\\Data\\s10141\\page to Z:\\Mindless Reading\\Data\\s10141\\page\n",
      "Copied E:\\MindlessReading\\Data\\s10144\\page to Z:\\Mindless Reading\\Data\\s10144\\page\n",
      "Copied E:\\MindlessReading\\Data\\s10145\\page to Z:\\Mindless Reading\\Data\\s10145\\page\n",
      "Copied E:\\MindlessReading\\Data\\s10153\\page to Z:\\Mindless Reading\\Data\\s10153\\page\n",
      "Copied E:\\MindlessReading\\Data\\s10165\\page to Z:\\Mindless Reading\\Data\\s10165\\page\n",
      "Copied E:\\MindlessReading\\Data\\s10173\\page to Z:\\Mindless Reading\\Data\\s10173\\page\n",
      "Copied E:\\MindlessReading\\Data\\s10177\\page to Z:\\Mindless Reading\\Data\\s10177\\page\n",
      "Copied E:\\MindlessReading\\Data\\s10180\\page to Z:\\Mindless Reading\\Data\\s10180\\page\n"
     ]
    }
   ],
   "source": [
    "import os\n",
    "import shutil\n",
    "import re\n",
    "\n",
    "# Define your local and online directories\n",
    "local_root = r\"E:\\MindlessReading\\Data\"\n",
    "online_root = r\"Z:\\Mindless Reading\\Data\"\n",
    "\n",
    "# define the folder name\n",
    "# folder = 'eeg/ICAPruned'\n",
    "# folder = 'eeg/Preprocessed'\n",
    "folder = 'page'\n",
    "\n",
    "# Regular expression to match subject folder names (s followed by exactly 5 digits)\n",
    "subject_pattern = re.compile(r\"^s\\d{5}$\")\n",
    "\n",
    "# Get the list of subject folders that match the pattern\n",
    "subjects = [d for d in os.listdir(local_root) if os.path.isdir(os.path.join(local_root, d)) and subject_pattern.match(d)]\n",
    "\n",
    "for subject in subjects:\n",
    "    local_path = os.path.join(local_root, subject, folder)\n",
    "    online_path = os.path.join(online_root, subject, folder)\n",
    "\n",
    "    # Check if the local ICAPruned folder exists\n",
    "    if os.path.exists(local_path):\n",
    "        # Delete the existing ICAPruned folder in the online directory if it exists\n",
    "        if os.path.exists(online_path):\n",
    "            shutil.rmtree(online_path)\n",
    "            print(f\"Deleted existing folder: {online_path}\")\n",
    "\n",
    "        # Copy the ICAPruned folder from local to online\n",
    "        shutil.copytree(local_path, online_path)\n",
    "        print(f\"Copied {local_path} to {online_path}\")\n",
    "    else:\n",
    "        print(f\"Skipping {subject}: {local_path} folder not found in local directory.\")"
   ]
  }
 ],
 "metadata": {
  "kernelspec": {
   "display_name": "base",
   "language": "python",
   "name": "python3"
  },
  "language_info": {
   "codemirror_mode": {
    "name": "ipython",
    "version": 3
   },
   "file_extension": ".py",
   "mimetype": "text/x-python",
   "name": "python",
   "nbconvert_exporter": "python",
   "pygments_lexer": "ipython3",
   "version": "3.12.3"
  }
 },
 "nbformat": 4,
 "nbformat_minor": 2
}
