{
 "cells": [
  {
   "cell_type": "markdown",
   "metadata": {},
   "source": [
    "### Quality Assurance\n",
    "This Jupyter Notebook includes all code snippets for processing individual datasets and generating various plots for quality assurance (QA). "
   ]
  },
  {
   "cell_type": "markdown",
   "metadata": {},
   "source": [
    "# Import Packages"
   ]
  },
  {
   "cell_type": "code",
   "execution_count": 2,
   "metadata": {},
   "outputs": [],
   "source": [
    "import os\n",
    "import re\n",
    "import shutil\n",
    "import numpy as np\n",
    "import pandas as pd\n",
    "import matplotlib.pyplot as plt\n",
    "import seaborn as sns\n",
    "from glob import glob\n",
    "from statannot import add_stat_annotation\n",
    "from scipy import stats"
   ]
  },
  {
   "cell_type": "markdown",
   "metadata": {},
   "source": [
    "# Append Files"
   ]
  },
  {
   "cell_type": "code",
   "execution_count": null,
   "metadata": {},
   "outputs": [],
   "source": [
    "def append_files(path, file_pattern='*[mono|R]_features*', file_name='group_R_features.csv'):\n",
    "    '''\n",
    "    Append subject files (eye/behavior) and save as a group .csv file\n",
    "\n",
    "    Parameters\n",
    "    ----------\n",
    "    path : string\n",
    "        DESCRIPTION. The relative path to the data folder\n",
    "    file_pattern : string, optional\n",
    "        DESCRIPTION. The pattern for files being appended. \n",
    "        The default is '*[mono|R]_features*' for eye feature files.\n",
    "    file_name : string, optional\n",
    "        DESCRIPTION. the group file name to save\n",
    "        The default is 'group_R_features.csv'.\n",
    "\n",
    "    Returns\n",
    "    -------\n",
    "    df_group : dataframe\n",
    "        DESCRIPTION. The group dataframe \n",
    "\n",
    "    '''\n",
    "    # grab every sub folders under the input path\n",
    "    sub_folders = [f.path for f in os.scandir(path) if f.is_dir()]\n",
    "    # define group dataframe\n",
    "    df_group = pd.DataFrame()\n",
    "    \n",
    "    # loop through every folder\n",
    "    for folder_path in sub_folders:\n",
    "        try: \n",
    "            # extract subject id\n",
    "            subject_id = re.findall(r's[0-9]+', folder_path)[0]\n",
    "            # extract tracking and behavior features\n",
    "            file_path = glob(os.path.join(folder_path, file_pattern))\n",
    "            # read in the subject csv\n",
    "            df_ind = pd.read_csv(file_path[0])\n",
    "            # add subject id columne\n",
    "            df_ind['sub_id'] = subject_id\n",
    "            # append to the group dataframe\n",
    "            df_group = pd.concat([df_group, df_ind], ignore_index=True)\n",
    "        except:\n",
    "            continue\n",
    "    \n",
    "    # save and return the group dataframe\n",
    "    df_group = df_group.loc[:, ~df_group.columns.str.match('Unnamed')]\n",
    "    \n",
    "    # calculate z-score of two correlation coefficient columns\n",
    "    # zipf_duration_correlation and word_length_duration_correlation\n",
    "    for col_name in ['zipf_fixdur_corr', 'word_length_fixdur_corr']:\n",
    "        # get index\n",
    "        index = df_group.columns.get_loc(col_name)\n",
    "        # extract the column values\n",
    "        col = df_group[col_name]\n",
    "        # compute the z-score\n",
    "        z_col = stats.zscore(col, nan_policy='omit')\n",
    "        # insert into the dataframe\n",
    "        df_group.insert(index, f'zscored_{col_name}', z_col)\n",
    "    \n",
    "    df_group.to_csv(f'{path}{file_name}')\n",
    "    return df_group\n",
    "\n",
    "# call function to append individual dataset\n",
    "path = '../../../../Data/'\n",
    "df = append_files(path, file_pattern='*[mono|R]_features_default*', file_name='group_R_features_default.csv')"
   ]
  },
  {
   "cell_type": "markdown",
   "metadata": {},
   "source": [
    "# Load Dataset"
   ]
  },
  {
   "cell_type": "code",
   "execution_count": 5,
   "metadata": {},
   "outputs": [],
   "source": [
    "file_path = '../../../../Data/group_R_features_default.csv'\n",
    "df = pd.read_csv(file_path)"
   ]
  }
 ],
 "metadata": {
  "kernelspec": {
   "display_name": "base",
   "language": "python",
   "name": "python3"
  },
  "language_info": {
   "codemirror_mode": {
    "name": "ipython",
    "version": 3
   },
   "file_extension": ".py",
   "mimetype": "text/x-python",
   "name": "python",
   "nbconvert_exporter": "python",
   "pygments_lexer": "ipython3",
   "version": "3.12.3"
  }
 },
 "nbformat": 4,
 "nbformat_minor": 2
}
